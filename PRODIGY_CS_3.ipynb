{
  "nbformat": 4,
  "nbformat_minor": 0,
  "metadata": {
    "colab": {
      "provenance": [],
      "authorship_tag": "ABX9TyNxWaoKbM5WuJ3Twu9J58gv",
      "include_colab_link": true
    },
    "kernelspec": {
      "name": "python3",
      "display_name": "Python 3"
    },
    "language_info": {
      "name": "python"
    }
  },
  "cells": [
    {
      "cell_type": "markdown",
      "metadata": {
        "id": "view-in-github",
        "colab_type": "text"
      },
      "source": [
        "<a href=\"https://colab.research.google.com/github/Kaivalyapekala/PRODIGY_CS_3/blob/main/PRODIGY_CS_3.ipynb\" target=\"_parent\"><img src=\"https://colab.research.google.com/assets/colab-badge.svg\" alt=\"Open In Colab\"/></a>"
      ]
    },
    {
      "cell_type": "code",
      "execution_count": 5,
      "metadata": {
        "colab": {
          "base_uri": "https://localhost:8080/"
        },
        "id": "bOCQNymPy7S7",
        "outputId": "9620ebc2-afe3-43a9-f0d9-8bf815096926"
      },
      "outputs": [
        {
          "output_type": "stream",
          "name": "stdout",
          "text": [
            "Enter your password: KaIvalya@#12938\n",
            "Strong password\n"
          ]
        }
      ],
      "source": [
        "import re\n",
        "\n",
        "def check_password_strength(password):\n",
        "    min_length = 8\n",
        "\n",
        "    has_lowercase = re.search(r'[a-z]', password)\n",
        "    has_uppercase = re.search(r'[A-Z]', password)\n",
        "    has_digit = re.search(r'\\d', password)\n",
        "    has_special_char = re.search(r'[!@#$%^&*(),.?\":{}|<>]', password)\n",
        "\n",
        "    strength_score = 0\n",
        "\n",
        "    if len(password) >= min_length:\n",
        "        strength_score += 1\n",
        "\n",
        "    if has_lowercase:\n",
        "        strength_score += 1\n",
        "\n",
        "    if has_uppercase:\n",
        "        strength_score += 1\n",
        "\n",
        "    if has_digit:\n",
        "        strength_score += 1\n",
        "\n",
        "    if has_special_char:\n",
        "        strength_score += 1\n",
        "\n",
        "    if strength_score == 5:\n",
        "        return \"Strong password\"\n",
        "    elif strength_score >= 3:\n",
        "        return \"Moderate password\"\n",
        "    else:\n",
        "        return \"Weak password\"\n",
        "\n",
        "password_input = input(\"Enter your password: \")\n",
        "result = check_password_strength(password_input)\n",
        "print(result)\n"
      ]
    },
    {
      "cell_type": "code",
      "source": [],
      "metadata": {
        "id": "L_pJrFoKze5U"
      },
      "execution_count": null,
      "outputs": []
    }
  ]
}